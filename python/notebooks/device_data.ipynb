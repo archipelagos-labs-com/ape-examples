{
 "cells": [
  {
   "cell_type": "code",
   "execution_count": 1,
   "id": "5e2529a0-7c92-4873-ab3a-026aede76166",
   "metadata": {},
   "outputs": [],
   "source": [
    "\n",
    "from ape_client import Client\n",
    "from pandas import Timestamp\n"
   ]
  },
  {
   "cell_type": "markdown",
   "id": "d9862329-cd0e-4260-9089-61c38be8a521",
   "metadata": {},
   "source": [
    "Devices and fields of interest."
   ]
  },
  {
   "cell_type": "code",
   "execution_count": 2,
   "id": "e5508981-02f0-40fe-a030-7a5748bc98de",
   "metadata": {},
   "outputs": [],
   "source": [
    "\n",
    "device = \"70b3d57ba00007b0\"\n",
    "fields = [\"air_temperature\", \"air_humidity\"]\n"
   ]
  },
  {
   "cell_type": "markdown",
   "id": "24f0b093-9a89-4e5d-ade9-15bf04d472b4",
   "metadata": {},
   "source": "Period of interest."
  },
  {
   "cell_type": "code",
   "execution_count": 3,
   "id": "5952e58d-cfa8-4044-a172-3e4fdf9bf062",
   "metadata": {},
   "outputs": [],
   "source": [
    "\n",
    "start = Timestamp(year=2025, month=4, day=25, hour=0, minute=0)\n",
    "end = Timestamp(year=2025, month=5, day=25, hour=23, minute=59)\n"
   ]
  },
  {
   "cell_type": "markdown",
   "id": "4ee2a778-7c90-4baa-9798-257961304840",
   "metadata": {},
   "source": "Login to the platform."
  },
  {
   "cell_type": "code",
   "execution_count": 4,
   "id": "8106258c-54ef-4741-8caa-55f403636de1",
   "metadata": {},
   "outputs": [],
   "source": [
    "\n",
    "client = Client()\n",
    "client.login();\n"
   ]
  },
  {
   "cell_type": "markdown",
   "id": "3c07a5de-f1bf-4089-962e-0b264049e625",
   "metadata": {},
   "source": "Retrieve and display data."
  },
  {
   "cell_type": "code",
   "execution_count": null,
   "id": "a96929e0-cc52-4aa8-b662-82537d3131f4",
   "metadata": {},
   "outputs": [],
   "source": [
    "\n",
    "df = client.get_device_data(network_device_id=device, lower_limit=start, upper_limit=end)\n",
    "print(df)\n"
   ]
  }
 ],
 "metadata": {
  "kernelspec": {
   "display_name": "conda_ape-python-examples",
   "language": "python",
   "name": "conda_ape-python-examples"
  },
  "language_info": {
   "codemirror_mode": {
    "name": "ipython",
    "version": 3
   },
   "file_extension": ".py",
   "mimetype": "text/x-python",
   "name": "python",
   "nbconvert_exporter": "python",
   "pygments_lexer": "ipython3",
   "version": "3.12.8"
  }
 },
 "nbformat": 4,
 "nbformat_minor": 5
}
